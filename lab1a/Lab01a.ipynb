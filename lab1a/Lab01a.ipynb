{
 "cells": [
  {
   "cell_type": "markdown",
   "source": [
    "# Machine Learning and Data Mining: Lab 01\n",
    "---------------"
   ],
   "metadata": {}
  },
  {
   "cell_type": "markdown",
   "source": [
    "#### Setup\n",
    "This lab is for installing and setting up your machine for the labs in the course Machine Learning and Data Mining.\n",
    "If you have any questions, please ask the lecturer asap. If you already have installed the necessary tools and libraries, you can just skip this lab."
   ],
   "metadata": {}
  },
  {
   "cell_type": "markdown",
   "source": [
    "##### __(a) Check your installed Python version. We need a version higher or equal Python 3.8.__"
   ],
   "metadata": {}
  },
  {
   "cell_type": "code",
   "execution_count": 12,
   "source": [
    "import sys\r\n",
    "\r\n",
    "if sys.version_info >= (3, 8):\r\n",
    "    print(\"Done. Python >= 3.8 already installed.\")\r\n",
    "else:\r\n",
    "    print(\"Python >= 3.8 not installed. Please install a corresponding version.\")"
   ],
   "outputs": [
    {
     "output_type": "stream",
     "name": "stdout",
     "text": [
      "Done. Python >= 3.8 already installed.\n"
     ]
    }
   ],
   "metadata": {}
  },
  {
   "cell_type": "markdown",
   "source": [
    "##### __(b) Check if you already have installed Pip. Pip is the package installer for Python, which we need in the following labs.__"
   ],
   "metadata": {}
  },
  {
   "cell_type": "code",
   "execution_count": 13,
   "source": [
    "try:\r\n",
    "    import pip\r\n",
    "    print(\"Done. Pip already installed.\")\r\n",
    "except ImportError:\r\n",
    "    print(\"Pip not installed. Please install the newest version.\")"
   ],
   "outputs": [
    {
     "output_type": "stream",
     "name": "stdout",
     "text": [
      "Done. Pip already installed.\n"
     ]
    }
   ],
   "metadata": {}
  },
  {
   "cell_type": "markdown",
   "source": [
    "##### __(c) Print each character line by line for the sentence \"Im ready and super excited for the course Machine Learning and Data Mining\".__"
   ],
   "metadata": {}
  },
  {
   "cell_type": "code",
   "execution_count": 14,
   "source": [
    "print(\"Im ready and super exited for the course Machine Learning and Data Mining\")"
   ],
   "outputs": [
    {
     "output_type": "stream",
     "name": "stdout",
     "text": [
      "Im ready and super exited for the course Machine Learning and Data Mining\n"
     ]
    }
   ],
   "metadata": {}
  },
  {
   "cell_type": "markdown",
   "source": [
    "##### __(d) Print the levensthein distance and the jaro winkler similarity (https://pypi.org/project/strsimpy/) between the sentences  \"the frog is green\", \"green is the pea\", and the \"green frog eats a green pea\".__"
   ],
   "metadata": {}
  },
  {
   "cell_type": "code",
   "execution_count": 16,
   "source": [
    "import strsimpy\r\n",
    "levenshtein = strsimpy.Levenshtein()\r\n",
    "print(levenshtein.distance('the frog is green', 'green is the pea\", and the \"green frog eats a green pea'))"
   ],
   "outputs": [
    {
     "output_type": "stream",
     "name": "stdout",
     "text": [
      "39\n"
     ]
    }
   ],
   "metadata": {}
  }
 ],
 "metadata": {
  "kernelspec": {
   "name": "python3",
   "display_name": "Python 3.9.2 64-bit"
  },
  "language_info": {
   "codemirror_mode": {
    "name": "ipython",
    "version": 3
   },
   "file_extension": ".py",
   "mimetype": "text/x-python",
   "name": "python",
   "nbconvert_exporter": "python",
   "pygments_lexer": "ipython3",
   "version": "3.9.2"
  },
  "interpreter": {
   "hash": "789ae0b37e42038bbdde0dd37e3123466575b5bf2604929a24bf4f2cc03dfd89"
  }
 },
 "nbformat": 4,
 "nbformat_minor": 4
}